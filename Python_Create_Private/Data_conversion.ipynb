{
 "cells": [
  {
   "cell_type": "code",
   "execution_count": 8,
   "id": "94f42f70-1469-4367-98b2-f76671e0a0b9",
   "metadata": {},
   "outputs": [],
   "source": [
    "import streamlit as  st\n",
    "import pandas as pd\n",
    "import io\n",
    "import xlsxwriter\n",
    "import openpyxl\n",
    "import datetime"
   ]
  },
  {
   "cell_type": "code",
   "execution_count": 44,
   "id": "e1fe279c-612a-4f28-97b2-99c131861934",
   "metadata": {},
   "outputs": [],
   "source": [
    "#◆◆◆◆◆◆◆◆◆◆◆◆◆◆◆◆◆◆◆◆◆◆◆◆◆◆◆◆◆◆◆◆◆◆◆◆◆◆◆◆◆◆◆◆◆◆◆◆◆◆◆◆◆◆◆◆◆◆◆◆◆◆◆◆◆◆◆◆◆◆◆◆◆◆◆◆◆◆\n",
    "#日配共配サマリー　取引先別分解\n",
    "#◆◆◆◆◆◆◆◆◆◆◆◆◆◆◆◆◆◆◆◆◆◆◆◆◆◆◆◆◆◆◆◆◆◆◆◆◆◆◆◆◆◆◆◆◆◆◆◆◆◆◆◆◆◆◆◆◆◆◆◆◆◆◆◆◆◆◆◆◆◆◆◆◆◆◆◆◆◆\n",
    "st.text('【日配共配サマリー　取引先別分解】')\n",
    "st.text('日配共配のエクセルで作られたサマリを取引先別のエクセルシートに分解します！')\n",
    "\n",
    "uploaded_files_xlsx = st.file_uploader('ファイルアップロード', type='xlsx')\n",
    "submit_btn_xlsx = st.button('xlsx処理実行')\n",
    "\n",
    "#ボタンが押されたら処理を実行する\n",
    "if submit_btn_xlsx:\n",
    "    if uploaded_files_xlsx == None:\n",
    "        st.text('ファイルが選択されていません!')\n",
    "    else:\n",
    "        #エラー処理を実施\n",
    "        try:\n",
    "            #読み込んだエクセルのシート名を取得\n",
    "            sheet_names = pd.ExcelFile(uploaded_files_xlsx).sheet_names\n",
    "            _df = pd.DataFrame()\n",
    "            #読み込んだエクセルのBOOKのシートを全て結合していく\n",
    "            for sheet_name_i in sheet_names:\n",
    "                _df_l = pd.read_excel(uploaded_files_xlsx, sheet_name=sheet_name_i, skiprows=3)\n",
    "                _df = pd.concat([_df,_df_l])\n",
    "            \n",
    "            #読み込んだデータを整形する\n",
    "            _df = _df.dropna(subset=['ＪＤ\\u3000\\u3000   原価'])\n",
    "            _df = _df[_df['ＪＡＮ'] != 'ＪＡＮ']\n",
    "            \n",
    "            #取引先名のユニークを取得する\n",
    "            torimei = _df['取引先'].unique()\n",
    "            \n",
    "            #エクセルでの書き出しはかなり特殊なようでこのような対応が必要\n",
    "            xlsx_dl = io.BytesIO()\n",
    "\n",
    "            #取得した取引先名をキーにデータを抽出して、エクスポートしていく\n",
    "            for tori in torimei:\n",
    "                df = _df[_df['取引先'] == tori]\n",
    "                #データを社別に出力していく\n",
    "                with pd.ExcelWriter(xlsx_dl, engine='xlsxwriter') as writer:\n",
    "                    df.to_excel(writer, sheet_name='Sheet1')\n",
    "                    writer.save()\n",
    "                    #出力するデータが表示されたら、ダウンロードボタンが出てくる\n",
    "                    st.download_button(label='エクセルダウンロード', data=xlsx_dl, file_name=tori + '_洋日配サマリ集計後.xlsx', mime='application/vnd.ms-excel')\n",
    "            \n",
    "        except:\n",
    "            st.text('エラーが発生しました')\n",
    "            pass"
   ]
  },
  {
   "cell_type": "code",
   "execution_count": 32,
   "id": "d7732518-69f4-4b5d-a2b8-d484b253b3b1",
   "metadata": {},
   "outputs": [],
   "source": [
    "#◆◆◆◆◆◆◆◆◆◆◆◆◆◆◆◆◆◆◆◆◆◆◆◆◆◆◆◆◆◆◆◆◆◆◆◆◆◆◆◆◆◆◆◆◆◆◆◆◆◆◆◆◆◆◆◆◆◆◆◆◆◆◆◆◆◆◆◆◆◆◆◆◆◆◆◆◆◆\n",
    "#CSVデータの処理用\n",
    "#◆◆◆◆◆◆◆◆◆◆◆◆◆◆◆◆◆◆◆◆◆◆◆◆◆◆◆◆◆◆◆◆◆◆◆◆◆◆◆◆◆◆◆◆◆◆◆◆◆◆◆◆◆◆◆◆◆◆◆◆◆◆◆◆◆◆◆◆◆◆◆◆◆◆◆◆◆◆\n",
    "#name_csv = st.text('洋日配サマリー表集約処理_CSV')\n",
    "#uploaded_files_csv = st.file_uploader('ファイルアップロード', type='csv')\n",
    "#submit_btn_csv = st.button('CSV処理実行')\n",
    "#ボタンが押されたら処理を実行する\n",
    "#if submit_btn_csv:\n",
    "#    _df_csv = pd.read_csv(uploaded_files_csv, encoding='shift-jis')\n",
    "#    st.dataframe(_df_csv)\n",
    "    \n",
    "    #出力するデータが表示されたら、ダウンロードボタンが出てくる\n",
    "#    csv_dl = _df_csv.to_csv()\n",
    "#    st.download_button(label='ＣＳＶダウンロード', data=csv_dl, file_name='洋日配サマリ集計後.csv')"
   ]
  },
  {
   "cell_type": "code",
   "execution_count": 40,
   "id": "aa881af2-6d94-4bb4-8be5-68c19127dda4",
   "metadata": {},
   "outputs": [],
   "source": [
    "\n",
    "# uploaded_files_xlsx = 'C:\\\\Users\\\\katsu\\\\Desktop\\\\2022_08メーカー洋日配販売計画書1（素案）.xlsx'\n",
    "# sheet_names = pd.ExcelFile(uploaded_files_xlsx).sheet_names\n",
    "# _df = pd.DataFrame()\n",
    "# for sheet_name in sheet_names:\n",
    "#     _df_l = pd.read_excel(uploaded_files_xlsx, sheet_name=sheet_name, skiprows=3)\n",
    "#     _df = pd.concat([_df,_df_l])\n",
    "\n",
    "# _df = _df.dropna(subset=['ＪＤ\\u3000\\u3000   原価'])\n",
    "# _df = _df[_df['ＪＡＮ'] != 'ＪＡＮ']\n",
    "\n",
    "# trimei = _df['取引先'].unique()\n",
    "            \n",
    "#             #取得した取引先名をキーにデータを抽出して、エクスポートしていく\n",
    "#             #エクセルでの書き出しはかなり特殊なようでこのような対応が必要\n",
    "# xlsx_dl = io.BytesIO()\n",
    "            \n",
    "# for tori in trimei:\n",
    "#     df = _df[_df['取引先'] == tori]"
   ]
  },
  {
   "cell_type": "code",
   "execution_count": null,
   "id": "879a0f74-0d72-4580-be5d-fbef452aa87b",
   "metadata": {},
   "outputs": [],
   "source": []
  }
 ],
 "metadata": {
  "kernelspec": {
   "display_name": "Python 3 (ipykernel)",
   "language": "python",
   "name": "python3"
  },
  "language_info": {
   "codemirror_mode": {
    "name": "ipython",
    "version": 3
   },
   "file_extension": ".py",
   "mimetype": "text/x-python",
   "name": "python",
   "nbconvert_exporter": "python",
   "pygments_lexer": "ipython3",
   "version": "3.8.13"
  }
 },
 "nbformat": 4,
 "nbformat_minor": 5
}
