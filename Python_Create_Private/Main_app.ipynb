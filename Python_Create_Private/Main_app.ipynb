{
 "cells": [
  {
   "cell_type": "code",
   "execution_count": 4,
   "id": "7872502e-1319-4280-977f-722b63d6c00f",
   "metadata": {},
   "outputs": [
    {
     "data": {
      "text/plain": [
       "DeltaGenerator(_root_container=0, _provided_cursor=None, _parent=None, _block_type=None, _form_data=None)"
      ]
     },
     "execution_count": 4,
     "metadata": {},
     "output_type": "execute_result"
    }
   ],
   "source": [
    "import streamlit as  st #Webアプリ作成の為\n",
    "import pandas as pd\n",
    "import io\n",
    "\n",
    "st.title('Pythonアプリケーション')\n",
    "st.caption('これはPythonプログラムで作成されたWebアプリです')"
   ]
  },
  {
   "cell_type": "code",
   "execution_count": 5,
   "id": "4b2c5ef4-dfa8-422b-8eeb-c6be0f7263c3",
   "metadata": {},
   "outputs": [],
   "source": [
    "#◆◆◆◆◆◆◆◆◆◆◆◆◆◆◆◆◆◆◆◆◆◆◆◆◆◆◆◆◆◆◆◆◆◆◆◆◆◆◆◆◆◆◆◆◆◆◆◆◆◆◆◆◆◆◆◆◆◆◆◆◆◆◆◆◆◆◆◆◆◆◆◆◆◆◆◆◆◆\n",
    "#xlsxデータの処理用\n",
    "#◆◆◆◆◆◆◆◆◆◆◆◆◆◆◆◆◆◆◆◆◆◆◆◆◆◆◆◆◆◆◆◆◆◆◆◆◆◆◆◆◆◆◆◆◆◆◆◆◆◆◆◆◆◆◆◆◆◆◆◆◆◆◆◆◆◆◆◆◆◆◆◆◆◆◆◆◆◆\n",
    "name_xlsx = st.text('洋日配サマリー表集約処理_xlsx')\n",
    "uploaded_files_xlsx = st.file_uploader('ファイルアップロード', type='xlsx')\n",
    "\n",
    "submit_btn_xlsx = st.button('xlsx処理実行')\n",
    "#ボタンが押されたら処理を実行する\n",
    "if submit_btn_xlsx:\n",
    "    _df_xlsx = pd.read_excel(uploaded_files_xlsx)\n",
    "    _df_xlsx\n",
    "    \n",
    "    #エクセルでの書き出しはかなり特殊なようで\n",
    "    xlsx_dl = io.BytesIO()\n",
    "    \n",
    "    with pd.ExcelWriter(xlsx_dl, engine='xlsxwriter') as writer:\n",
    "        _df_xlsx.to_excel(writer, sheet_name='Sheet1')\n",
    "        writer.save()\n",
    "        #出力するデータが表示されたら、ダウンロードボタンが出てくる\n",
    "        st.download_button(label='エクセルダウンロード', data=xlsx_dl, file_name='洋日配サマリ集計後.xlsx', mime='application/vnd.ms-excel')"
   ]
  },
  {
   "cell_type": "code",
   "execution_count": 6,
   "id": "58d392f7-d423-462f-9229-88f6e8151672",
   "metadata": {},
   "outputs": [],
   "source": [
    "#◆◆◆◆◆◆◆◆◆◆◆◆◆◆◆◆◆◆◆◆◆◆◆◆◆◆◆◆◆◆◆◆◆◆◆◆◆◆◆◆◆◆◆◆◆◆◆◆◆◆◆◆◆◆◆◆◆◆◆◆◆◆◆◆◆◆◆◆◆◆◆◆◆◆◆◆◆◆\n",
    "#CSVデータの処理用\n",
    "#◆◆◆◆◆◆◆◆◆◆◆◆◆◆◆◆◆◆◆◆◆◆◆◆◆◆◆◆◆◆◆◆◆◆◆◆◆◆◆◆◆◆◆◆◆◆◆◆◆◆◆◆◆◆◆◆◆◆◆◆◆◆◆◆◆◆◆◆◆◆◆◆◆◆◆◆◆◆\n",
    "name_csv = st.text('洋日配サマリー表集約処理_CSV')\n",
    "uploaded_files_csv = st.file_uploader('ファイルアップロード', type='csv')\n",
    "submit_btn_csv = st.button('CSV処理実行')\n",
    "#ボタンが押されたら処理を実行する\n",
    "if submit_btn_csv:\n",
    "    _df_csv = pd.read_csv(uploaded_files_csv, encoding='shift-jis')\n",
    "    _df_csv\n",
    "    #出力するデータが表示されたら、ダウンロードボタンが出てくる\n",
    "    csv_dl = _df_csv.to_csv()\n",
    "    st.download_button(label='ＣＳＶダウンロード', data=csv_dl, file_name='洋日配サマリ集計後.csv')"
   ]
  },
  {
   "cell_type": "code",
   "execution_count": null,
   "id": "25108bb8-eb09-48f6-9366-930d04197f20",
   "metadata": {},
   "outputs": [],
   "source": []
  }
 ],
 "metadata": {
  "kernelspec": {
   "display_name": "Python 3 (ipykernel)",
   "language": "python",
   "name": "python3"
  },
  "language_info": {
   "codemirror_mode": {
    "name": "ipython",
    "version": 3
   },
   "file_extension": ".py",
   "mimetype": "text/x-python",
   "name": "python",
   "nbconvert_exporter": "python",
   "pygments_lexer": "ipython3",
   "version": "3.8.13"
  }
 },
 "nbformat": 4,
 "nbformat_minor": 5
}
