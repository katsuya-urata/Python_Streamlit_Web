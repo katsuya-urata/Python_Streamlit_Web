{
 "cells": [
  {
   "cell_type": "code",
   "execution_count": 10,
   "id": "94f42f70-1469-4367-98b2-f76671e0a0b9",
   "metadata": {},
   "outputs": [],
   "source": [
    "import streamlit as  st\n",
    "import pandas as pd\n",
    "import io\n",
    "import xlsxwriter\n",
    "import openpyxl"
   ]
  },
  {
   "cell_type": "code",
   "execution_count": 11,
   "id": "e1fe279c-612a-4f28-97b2-99c131861934",
   "metadata": {},
   "outputs": [],
   "source": [
    "#◆◆◆◆◆◆◆◆◆◆◆◆◆◆◆◆◆◆◆◆◆◆◆◆◆◆◆◆◆◆◆◆◆◆◆◆◆◆◆◆◆◆◆◆◆◆◆◆◆◆◆◆◆◆◆◆◆◆◆◆◆◆◆◆◆◆◆◆◆◆◆◆◆◆◆◆◆◆\n",
    "#xlsxデータの処理用\n",
    "#◆◆◆◆◆◆◆◆◆◆◆◆◆◆◆◆◆◆◆◆◆◆◆◆◆◆◆◆◆◆◆◆◆◆◆◆◆◆◆◆◆◆◆◆◆◆◆◆◆◆◆◆◆◆◆◆◆◆◆◆◆◆◆◆◆◆◆◆◆◆◆◆◆◆◆◆◆◆\n",
    "name_xlsx = st.text('洋日配サマリー表集約処理_xlsx')\n",
    "uploaded_files_xlsx = st.file_uploader('ファイルアップロード', type='xlsx')\n",
    "\n",
    "submit_btn_xlsx = st.button('xlsx処理実行')\n",
    "#ボタンが押されたら処理を実行する\n",
    "if submit_btn_xlsx:\n",
    "    _df_xlsx = pd.read_excel(uploaded_files_xlsx)\n",
    "    st.table(_df_xlsx)\n",
    "    #エクセルでの書き出しはかなり特殊なようでこのような対応が必要\n",
    "    xlsx_dl = io.BytesIO()\n",
    "    \n",
    "    with pd.ExcelWriter(xlsx_dl, engine='xlsxwriter') as writer:\n",
    "        _df_xlsx.to_excel(writer, sheet_name='Sheet1')\n",
    "        writer.save()\n",
    "        #出力するデータが表示されたら、ダウンロードボタンが出てくる\n",
    "        st.download_button(label='エクセルダウンロード', data=xlsx_dl, file_name='洋日配サマリ集計後.xlsx', mime='application/vnd.ms-excel')"
   ]
  },
  {
   "cell_type": "code",
   "execution_count": 12,
   "id": "d7732518-69f4-4b5d-a2b8-d484b253b3b1",
   "metadata": {},
   "outputs": [],
   "source": [
    "#◆◆◆◆◆◆◆◆◆◆◆◆◆◆◆◆◆◆◆◆◆◆◆◆◆◆◆◆◆◆◆◆◆◆◆◆◆◆◆◆◆◆◆◆◆◆◆◆◆◆◆◆◆◆◆◆◆◆◆◆◆◆◆◆◆◆◆◆◆◆◆◆◆◆◆◆◆◆\n",
    "#CSVデータの処理用\n",
    "#◆◆◆◆◆◆◆◆◆◆◆◆◆◆◆◆◆◆◆◆◆◆◆◆◆◆◆◆◆◆◆◆◆◆◆◆◆◆◆◆◆◆◆◆◆◆◆◆◆◆◆◆◆◆◆◆◆◆◆◆◆◆◆◆◆◆◆◆◆◆◆◆◆◆◆◆◆◆\n",
    "name_csv = st.text('洋日配サマリー表集約処理_CSV')\n",
    "uploaded_files_csv = st.file_uploader('ファイルアップロード', type='csv')\n",
    "submit_btn_csv = st.button('CSV処理実行')\n",
    "#ボタンが押されたら処理を実行する\n",
    "if submit_btn_csv:\n",
    "    _df_csv = pd.read_csv(uploaded_files_csv, encoding='shift-jis')\n",
    "    st.dataframe(_df_csv)\n",
    "    \n",
    "    #出力するデータが表示されたら、ダウンロードボタンが出てくる\n",
    "    csv_dl = _df_csv.to_csv()\n",
    "    st.download_button(label='ＣＳＶダウンロード', data=csv_dl, file_name='洋日配サマリ集計後.csv')"
   ]
  },
  {
   "cell_type": "code",
   "execution_count": null,
   "id": "5ef3e9cb-74b6-4967-986a-290717497974",
   "metadata": {},
   "outputs": [],
   "source": []
  }
 ],
 "metadata": {
  "kernelspec": {
   "display_name": "Python 3 (ipykernel)",
   "language": "python",
   "name": "python3"
  },
  "language_info": {
   "codemirror_mode": {
    "name": "ipython",
    "version": 3
   },
   "file_extension": ".py",
   "mimetype": "text/x-python",
   "name": "python",
   "nbconvert_exporter": "python",
   "pygments_lexer": "ipython3",
   "version": "3.8.13"
  }
 },
 "nbformat": 4,
 "nbformat_minor": 5
}
