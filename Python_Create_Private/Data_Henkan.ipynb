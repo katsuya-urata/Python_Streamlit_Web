{
 "cells": [
  {
   "cell_type": "code",
   "execution_count": 24,
   "id": "94f42f70-1469-4367-98b2-f76671e0a0b9",
   "metadata": {},
   "outputs": [],
   "source": [
    "import streamlit as  st\n",
    "import pandas as pd\n",
    "import io\n",
    "import xlsxwriter\n",
    "import openpyxl"
   ]
  },
  {
   "cell_type": "code",
   "execution_count": 25,
   "id": "e1fe279c-612a-4f28-97b2-99c131861934",
   "metadata": {},
   "outputs": [],
   "source": [
    "#◆◆◆◆◆◆◆◆◆◆◆◆◆◆◆◆◆◆◆◆◆◆◆◆◆◆◆◆◆◆◆◆◆◆◆◆◆◆◆◆◆◆◆◆◆◆◆◆◆◆◆◆◆◆◆◆◆◆◆◆◆◆◆◆◆◆◆◆◆◆◆◆◆◆◆◆◆◆\n",
    "#xlsxデータの処理用\n",
    "#◆◆◆◆◆◆◆◆◆◆◆◆◆◆◆◆◆◆◆◆◆◆◆◆◆◆◆◆◆◆◆◆◆◆◆◆◆◆◆◆◆◆◆◆◆◆◆◆◆◆◆◆◆◆◆◆◆◆◆◆◆◆◆◆◆◆◆◆◆◆◆◆◆◆◆◆◆◆\n",
    "name_xlsx = st.text('洋日配サマリー表集約処理_xlsx')\n",
    "uploaded_files_xlsx = st.file_uploader('ファイルアップロード', type='xlsx')\n",
    "\n",
    "submit_btn_xlsx = st.button('xlsx処理実行')\n",
    "#ボタンが押されたら処理を実行する\n",
    "if submit_btn_xlsx:\n",
    "    _df_xlsx = pd.read_excel(uploaded_files_xlsx)\n",
    "    _df_xlsx.to_feather('_df_xlsx.feather')\n",
    "    \n",
    "    #st.dataframe(_df_xlsx)\n",
    "    #エクセルでの書き出しはかなり特殊なようでこのような対応が必要\n",
    "    xlsx_dl = io.BytesIO()\n",
    "    \n",
    "    with pd.ExcelWriter(xlsx_dl, engine='xlsxwriter') as writer:\n",
    "        _df_xlsx.to_excel(writer, sheet_name='Sheet1')\n",
    "        writer.save()\n",
    "        #出力するデータが表示されたら、ダウンロードボタンが出てくる\n",
    "        st.download_button(label='エクセルダウンロード', data=xlsx_dl, file_name='洋日配サマリ集計後.xlsx', mime='application/vnd.ms-excel')"
   ]
  },
  {
   "cell_type": "code",
   "execution_count": 26,
   "id": "d7732518-69f4-4b5d-a2b8-d484b253b3b1",
   "metadata": {},
   "outputs": [],
   "source": [
    "#◆◆◆◆◆◆◆◆◆◆◆◆◆◆◆◆◆◆◆◆◆◆◆◆◆◆◆◆◆◆◆◆◆◆◆◆◆◆◆◆◆◆◆◆◆◆◆◆◆◆◆◆◆◆◆◆◆◆◆◆◆◆◆◆◆◆◆◆◆◆◆◆◆◆◆◆◆◆\n",
    "#CSVデータの処理用\n",
    "#◆◆◆◆◆◆◆◆◆◆◆◆◆◆◆◆◆◆◆◆◆◆◆◆◆◆◆◆◆◆◆◆◆◆◆◆◆◆◆◆◆◆◆◆◆◆◆◆◆◆◆◆◆◆◆◆◆◆◆◆◆◆◆◆◆◆◆◆◆◆◆◆◆◆◆◆◆◆\n",
    "name_csv = st.text('洋日配サマリー表集約処理_CSV')\n",
    "uploaded_files_csv = st.file_uploader('ファイルアップロード', type='csv')\n",
    "submit_btn_csv = st.button('CSV処理実行')\n",
    "#ボタンが押されたら処理を実行する\n",
    "if submit_btn_csv:\n",
    "    _df_csv = pd.read_csv(uploaded_files_csv, encoding='shift-jis')\n",
    "    st.dataframe(_df_csv)\n",
    "    \n",
    "    #出力するデータが表示されたら、ダウンロードボタンが出てくる\n",
    "    csv_dl = _df_csv.to_csv()\n",
    "    st.download_button(label='ＣＳＶダウンロード', data=csv_dl, file_name='洋日配サマリ集計後.csv')"
   ]
  },
  {
   "cell_type": "code",
   "execution_count": 19,
   "id": "5ef3e9cb-74b6-4967-986a-290717497974",
   "metadata": {},
   "outputs": [],
   "source": [
    "fff = pd.read_excel('C:\\\\Users\\\\katsu\\\\Desktop\\\\（九州）商品一覧冷食・アイス220630.xlsx')"
   ]
  },
  {
   "cell_type": "code",
   "execution_count": 22,
   "id": "bd05a549-0569-4133-86b4-78fae7ef4cf6",
   "metadata": {},
   "outputs": [
    {
     "name": "stdout",
     "output_type": "stream",
     "text": [
      "<class 'pandas.core.frame.DataFrame'>\n",
      "RangeIndex: 122 entries, 0 to 121\n",
      "Data columns (total 9 columns):\n",
      " #   Column      Non-Null Count  Dtype  \n",
      "---  ------      --------------  -----  \n",
      " 0   部門          122 non-null    object \n",
      " 1   JAN         122 non-null    int64  \n",
      " 2   商品名・長*      122 non-null    object \n",
      " 3   入数          122 non-null    object \n",
      " 4   発注先名        122 non-null    object \n",
      " 5   発注先         122 non-null    int64  \n",
      " 6   Unnamed: 6  8 non-null      float64\n",
      " 7   Unnamed: 7  8 non-null      object \n",
      " 8   Unnamed: 8  8 non-null      object \n",
      "dtypes: float64(1), int64(2), object(6)\n",
      "memory usage: 8.7+ KB\n"
     ]
    }
   ],
   "source": [
    "fff.info()"
   ]
  },
  {
   "cell_type": "code",
   "execution_count": null,
   "id": "21994f43-c13a-499a-ba3d-ef33d6fede6e",
   "metadata": {},
   "outputs": [],
   "source": []
  }
 ],
 "metadata": {
  "kernelspec": {
   "display_name": "Python 3 (ipykernel)",
   "language": "python",
   "name": "python3"
  },
  "language_info": {
   "codemirror_mode": {
    "name": "ipython",
    "version": 3
   },
   "file_extension": ".py",
   "mimetype": "text/x-python",
   "name": "python",
   "nbconvert_exporter": "python",
   "pygments_lexer": "ipython3",
   "version": "3.8.13"
  }
 },
 "nbformat": 4,
 "nbformat_minor": 5
}
